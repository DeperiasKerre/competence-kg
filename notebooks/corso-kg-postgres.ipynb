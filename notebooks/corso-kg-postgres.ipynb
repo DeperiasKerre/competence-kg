{
 "cells": [
  {
   "cell_type": "code",
   "execution_count": 2,
   "id": "4f56337e-4185-4cc8-a3c3-fb400062320d",
   "metadata": {},
   "outputs": [
    {
     "name": "stdout",
     "output_type": "stream",
     "text": [
      "Collecting psycopg2-binary\n",
      "  Obtaining dependency information for psycopg2-binary from https://files.pythonhosted.org/packages/ce/85/62825cabc6aad53104b7b6d12eb2ad74737d268630032d07b74d4444cb72/psycopg2_binary-2.9.9-cp311-cp311-manylinux_2_17_x86_64.manylinux2014_x86_64.whl.metadata\n",
      "  Downloading psycopg2_binary-2.9.9-cp311-cp311-manylinux_2_17_x86_64.manylinux2014_x86_64.whl.metadata (4.4 kB)\n",
      "Downloading psycopg2_binary-2.9.9-cp311-cp311-manylinux_2_17_x86_64.manylinux2014_x86_64.whl (3.0 MB)\n",
      "\u001b[2K   \u001b[90m━━━━━━━━━━━━━━━━━━━━━━━━━━━━━━━━━━━━━━━━\u001b[0m \u001b[32m3.0/3.0 MB\u001b[0m \u001b[31m29.8 MB/s\u001b[0m eta \u001b[36m0:00:00\u001b[0ma \u001b[36m0:00:01\u001b[0m\n",
      "\u001b[?25hInstalling collected packages: psycopg2-binary\n",
      "Successfully installed psycopg2-binary-2.9.9\n"
     ]
    }
   ],
   "source": [
    "import sys\n",
    "!{sys.executable} -m pip install psycopg2-binary"
   ]
  },
  {
   "cell_type": "code",
   "execution_count": 28,
   "id": "2f24bd7a-616a-42f2-a265-48d9b71b2ac6",
   "metadata": {},
   "outputs": [
    {
     "data": {
      "text/plain": [
       "<cursor object at 0x7fc7a5e22b60; closed: 0>"
      ]
     },
     "execution_count": 28,
     "metadata": {},
     "output_type": "execute_result"
    }
   ],
   "source": [
    "import psycopg2\n",
    "\n",
    "# Establish a connection to the PostgreSQL database\n",
    "conn = psycopg2.connect(\n",
    "    host=\"corso-kg-postgres\",\n",
    "    database=\"corso-kg-postgres\",\n",
    "    user=\"postgres\",\n",
    "    password=\"kgCefriel\"\n",
    ")\n",
    "\n",
    "# Create a cursor object to interact with the database\n",
    "cur = conn.cursor()\n",
    "cur"
   ]
  },
  {
   "cell_type": "code",
   "execution_count": 29,
   "id": "7c43dd7a-7806-44e5-83f0-2246b8fbaf8d",
   "metadata": {},
   "outputs": [
    {
     "name": "stdout",
     "output_type": "stream",
     "text": [
      "Table: assignment\n",
      "Columns:\n",
      "['employee_id', 'competence_id', 'level', 'interest']\n",
      "\n",
      "Table: competences\n",
      "Columns:\n",
      "['id', 'dimension', 'competence', 'description']\n",
      "\n",
      "Table: employees\n",
      "Columns:\n",
      "['id', 'name', 'surname', 'unit']\n",
      "\n"
     ]
    }
   ],
   "source": [
    "# Query to get the list of tables in the database\n",
    "tables_query = \"\"\"\n",
    "    SELECT table_name\n",
    "    FROM information_schema.tables\n",
    "    WHERE table_schema = 'public'\n",
    "    ORDER BY table_name\n",
    "\"\"\"\n",
    "\n",
    "# Execute the tables query\n",
    "cur.execute(tables_query)\n",
    "tables = cur.fetchall()\n",
    "\n",
    "# Iterate over the tables\n",
    "for table in tables:\n",
    "    table_name = table[0]\n",
    "    print(\"Table:\", table_name)\n",
    "\n",
    "    # Query to get 3 results for each table to check the columns\n",
    "    columns_query = f\"\"\"\n",
    "        SELECT *\n",
    "        FROM {table_name}\n",
    "        LIMIT 3\n",
    "    \"\"\"\n",
    "\n",
    "    # Execute the columns query\n",
    "    cur.execute(columns_query)\n",
    "    columns = [desc[0] for desc in cur.description]\n",
    "\n",
    "    print(\"Columns:\")\n",
    "    print(columns)\n",
    "\n",
    "    print(\"\")"
   ]
  },
  {
   "cell_type": "code",
   "execution_count": 31,
   "id": "55730d93-e2ff-4217-af01-7fdb2e8cbe9b",
   "metadata": {},
   "outputs": [],
   "source": [
    "# Execute query and print the result\n",
    "def execute_query(cur, query):\n",
    "    # Execute the query\n",
    "    cur.execute(query)\n",
    "    custom_results = cur.fetchall()\n",
    "    # Get the column names\n",
    "    columns = [desc[0] for desc in cur.description]\n",
    "\n",
    "    # Print the custom query results as a table\n",
    "    for col in columns:\n",
    "        print(col, end=\"\\t\")\n",
    "    print()\n",
    "    for row in custom_results:\n",
    "        for col in row:\n",
    "            print(col, end=\"\\t\")\n",
    "        print()"
   ]
  },
  {
   "cell_type": "code",
   "execution_count": 32,
   "id": "8256c731-fc23-4619-911a-1bfe8884a4d6",
   "metadata": {},
   "outputs": [
    {
     "name": "stdout",
     "output_type": "stream",
     "text": [
      "competence_id\tcompetence\t\n",
      "4.4\tProtecting the environment\t\n",
      "4.3\tProtecting health and well-being\t\n",
      "4.2\tProtecting personal data and privacy\t\n",
      "3.4\tProgramming\t\n",
      "1.3\tManaging data, information and digital content\t\n",
      "3.3\tCopyright and licences\t\n",
      "5.3\tCreatively using digital technologies\t\n",
      "5.1\tSolving technical problems\t\n",
      "2.1\tInteracting through digital technologies\t\n",
      "2.5\tNetiquette\t\n"
     ]
    }
   ],
   "source": [
    "# Query: Competences of an Employee\n",
    "name = \"Jane\"\n",
    "surname = \"Brown\"\n",
    "employee_competences = f\"\"\"\n",
    "    SELECT competence_id, competence\n",
    "    FROM employees\n",
    "    JOIN assignment ON employees.id = assignment.employee_id\n",
    "    JOIN competences ON competences.id = assignment.competence_id\n",
    "    WHERE employees.name = '{name}' AND employees.surname = '{surname}'\n",
    "\"\"\"\n",
    "\n",
    "execute_query(cur, employee_competences)"
   ]
  },
  {
   "cell_type": "code",
   "execution_count": 33,
   "id": "548feb5c-3e08-47ad-9fd7-1a6c3bc0f2c4",
   "metadata": {},
   "outputs": [
    {
     "name": "stdout",
     "output_type": "stream",
     "text": [
      "id\tname\tsurname\tnum_competences\t\n",
      "EMPLOYEE_23\tJane\tTaylor\t10\t\n",
      "EMPLOYEE_4\tDavid\tBrown\t10\t\n",
      "EMPLOYEE_16\tDavid\tDavis\t9\t\n",
      "EMPLOYEE_8\tDavid\tMiller\t9\t\n",
      "EMPLOYEE_22\tSophia\tJohnson\t9\t\n",
      "EMPLOYEE_6\tJane\tDavis\t8\t\n",
      "EMPLOYEE_29\tDaniel\tBrown\t8\t\n",
      "EMPLOYEE_20\tSophia\tHarris\t7\t\n",
      "EMPLOYEE_19\tDavid\tHarris\t7\t\n",
      "EMPLOYEE_2\tDavid\tBrown\t7\t\n",
      "EMPLOYEE_10\tMichael\tWilson\t7\t\n",
      "EMPLOYEE_12\tDavid\tJohnson\t7\t\n",
      "EMPLOYEE_3\tOlivia\tDavis\t6\t\n",
      "EMPLOYEE_15\tEmma\tJohnson\t6\t\n",
      "EMPLOYEE_9\tAndrew\tWilson\t5\t\n",
      "EMPLOYEE_13\tDaniel\tDavis\t5\t\n",
      "EMPLOYEE_30\tEmma\tClark\t5\t\n",
      "EMPLOYEE_27\tSophia\tDavis\t4\t\n",
      "EMPLOYEE_21\tOlivia\tClark\t4\t\n",
      "EMPLOYEE_17\tDavid\tMiller\t4\t\n",
      "EMPLOYEE_28\tMichael\tJohnson\t4\t\n",
      "EMPLOYEE_5\tDavid\tTaylor\t3\t\n",
      "EMPLOYEE_1\tJane\tSmith\t3\t\n",
      "EMPLOYEE_24\tOlivia\tWilson\t2\t\n",
      "EMPLOYEE_18\tEmily\tBrown\t1\t\n",
      "EMPLOYEE_25\tEmily\tWilson\t1\t\n"
     ]
    }
   ],
   "source": [
    "# Query: Employees with competences similar to the one of another employee\n",
    "name = \"Jane\"\n",
    "surname = \"Brown\"\n",
    "similar_employees = f\"\"\"\n",
    "    WITH jane_competences AS (\n",
    "        SELECT competence_id\n",
    "        FROM employees\n",
    "        JOIN assignment ON employees.id = assignment.employee_id\n",
    "        WHERE employees.name = '{name}' AND employees.surname = '{surname}'\n",
    "    )\n",
    "    SELECT employees.id, employees.name, employees.surname, COUNT(assignment.competence_id) AS num_competences\n",
    "    FROM employees\n",
    "    JOIN assignment ON employees.id = assignment.employee_id\n",
    "    WHERE assignment.competence_id IN (SELECT competence_id FROM jane_competences) \n",
    "        AND NOT(employees.name = '{name}' AND employees.surname = '{surname}')\n",
    "    GROUP BY employees.id, employees.name, employees.surname\n",
    "    ORDER BY num_competences DESC;\n",
    "\"\"\"\n",
    "\n",
    "execute_query(cur, similar_employees)"
   ]
  },
  {
   "cell_type": "code",
   "execution_count": 26,
   "id": "33e58779-f187-414e-b095-1053ca775216",
   "metadata": {},
   "outputs": [],
   "source": [
    "# Close the cursor and the connection\n",
    "cur.close()\n",
    "conn.close()"
   ]
  },
  {
   "cell_type": "code",
   "execution_count": null,
   "id": "19d25ded-ce72-4b1b-a721-b2442d8f0f72",
   "metadata": {},
   "outputs": [],
   "source": []
  }
 ],
 "metadata": {
  "kernelspec": {
   "display_name": "Python 3 (ipykernel)",
   "language": "python",
   "name": "python3"
  },
  "language_info": {
   "codemirror_mode": {
    "name": "ipython",
    "version": 3
   },
   "file_extension": ".py",
   "mimetype": "text/x-python",
   "name": "python",
   "nbconvert_exporter": "python",
   "pygments_lexer": "ipython3",
   "version": "3.11.4"
  }
 },
 "nbformat": 4,
 "nbformat_minor": 5
}
