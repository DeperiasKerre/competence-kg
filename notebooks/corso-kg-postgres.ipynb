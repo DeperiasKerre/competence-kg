{
 "cells": [
  {
   "cell_type": "code",
   "execution_count": 4,
   "id": "4f56337e-4185-4cc8-a3c3-fb400062320d",
   "metadata": {},
   "outputs": [
    {
     "name": "stdout",
     "output_type": "stream",
     "text": [
      "Collecting psycopg2-binary\n",
      "  Downloading psycopg2_binary-2.9.6-cp311-cp311-manylinux_2_17_x86_64.manylinux2014_x86_64.whl (3.0 MB)\n",
      "\u001b[2K     \u001b[90m━━━━━━━━━━━━━━━━━━━━━━━━━━━━━━━━━━━━━━━━\u001b[0m \u001b[32m3.0/3.0 MB\u001b[0m \u001b[31m26.1 MB/s\u001b[0m eta \u001b[36m0:00:00\u001b[0m00:01\u001b[0m00:01\u001b[0m\n",
      "\u001b[?25hInstalling collected packages: psycopg2-binary\n",
      "Successfully installed psycopg2-binary-2.9.6\n"
     ]
    }
   ],
   "source": [
    "import sys\n",
    "!{sys.executable} -m pip install psycopg2-binary"
   ]
  },
  {
   "cell_type": "code",
   "execution_count": 19,
   "id": "2f24bd7a-616a-42f2-a265-48d9b71b2ac6",
   "metadata": {},
   "outputs": [
    {
     "name": "stdout",
     "output_type": "stream",
     "text": [
      "Table: assignment\n",
      "Columns:\n",
      "['employee_id', 'competence_id', 'level', 'interest']\n",
      "\n",
      "Table: competences\n",
      "Columns:\n",
      "['id', 'dimension', 'competence', 'description']\n",
      "\n",
      "Table: employees\n",
      "Columns:\n",
      "['id', 'name', 'surname', 'unit']\n",
      "\n"
     ]
    }
   ],
   "source": [
    "import psycopg2\n",
    "\n",
    "# Establish a connection to the PostgreSQL database\n",
    "conn = psycopg2.connect(\n",
    "    host=\"corso-kg-postgres\",\n",
    "    database=\"corso-kg-postgres\",\n",
    "    user=\"postgres\",\n",
    "    password=\"kgCefriel\"\n",
    ")\n",
    "\n",
    "# Create a cursor object to interact with the database\n",
    "cur = conn.cursor()\n",
    "\n",
    "# Query to get the list of tables in the database\n",
    "tables_query = \"\"\"\n",
    "    SELECT table_name\n",
    "    FROM information_schema.tables\n",
    "    WHERE table_schema = 'public'\n",
    "    ORDER BY table_name\n",
    "\"\"\"\n",
    "\n",
    "# Execute the tables query\n",
    "cur.execute(tables_query)\n",
    "tables = cur.fetchall()\n",
    "\n",
    "# Iterate over the tables\n",
    "for table in tables:\n",
    "    table_name = table[0]\n",
    "    print(\"Table:\", table_name)\n",
    "\n",
    "    # Query to get 3 results for each table to check the columns\n",
    "    columns_query = f\"\"\"\n",
    "        SELECT *\n",
    "        FROM {table_name}\n",
    "        LIMIT 3\n",
    "    \"\"\"\n",
    "\n",
    "    # Execute the columns query\n",
    "    cur.execute(columns_query)\n",
    "    columns = [desc[0] for desc in cur.description]\n",
    "\n",
    "    print(\"Columns:\")\n",
    "    print(columns)\n",
    "\n",
    "    print(\"\")"
   ]
  },
  {
   "cell_type": "code",
   "execution_count": 30,
   "id": "8256c731-fc23-4619-911a-1bfe8884a4d6",
   "metadata": {},
   "outputs": [
    {
     "name": "stdout",
     "output_type": "stream",
     "text": [
      "id\tname\tsurname\tnum_competences\t\n",
      "EMPLOYEE_21\tEmily\tBrown\t4\t\n",
      "EMPLOYEE_12\tJohn\tJohnson\t4\t\n",
      "EMPLOYEE_2\tMichael\tSmith\t4\t\n",
      "EMPLOYEE_20\tMichael\tTaylor\t3\t\n",
      "EMPLOYEE_11\tDavid\tLee\t3\t\n",
      "EMPLOYEE_25\tOlivia\tJohnson\t3\t\n",
      "EMPLOYEE_8\tMichael\tBrown\t3\t\n",
      "EMPLOYEE_9\tJohn\tSmith\t3\t\n",
      "EMPLOYEE_19\tJohn\tJohnson\t3\t\n",
      "EMPLOYEE_17\tDaniel\tDavis\t2\t\n",
      "EMPLOYEE_30\tDavid\tWilson\t2\t\n",
      "EMPLOYEE_18\tMichael\tSmith\t2\t\n",
      "EMPLOYEE_23\tJane\tBrown\t2\t\n",
      "EMPLOYEE_29\tOlivia\tMiller\t2\t\n",
      "EMPLOYEE_6\tEmily\tDavis\t2\t\n",
      "EMPLOYEE_26\tMichael\tTaylor\t2\t\n",
      "EMPLOYEE_13\tJohn\tMiller\t2\t\n",
      "EMPLOYEE_15\tDavid\tBrown\t2\t\n",
      "EMPLOYEE_7\tEmma\tDavis\t1\t\n",
      "EMPLOYEE_14\tJane\tSmith\t1\t\n",
      "EMPLOYEE_28\tDaniel\tWilson\t1\t\n",
      "EMPLOYEE_4\tJohn\tSmith\t1\t\n",
      "EMPLOYEE_1\tMichael\tJohnson\t1\t\n",
      "EMPLOYEE_27\tEmily\tMiller\t1\t\n",
      "EMPLOYEE_22\tJohn\tJohnson\t1\t\n",
      "EMPLOYEE_24\tDavid\tHarris\t1\t\n",
      "EMPLOYEE_3\tOlivia\tClark\t1\t\n",
      "EMPLOYEE_16\tDavid\tSmith\t1\t\n"
     ]
    }
   ],
   "source": [
    "# Custom query\n",
    "custom_query = f\"\"\"\n",
    "    WITH jane_competences AS (\n",
    "        SELECT competence_id\n",
    "        FROM employees\n",
    "        JOIN assignment ON employees.id = assignment.employee_id\n",
    "        WHERE employees.name = 'Jane' AND employees.surname = 'Wilson'\n",
    "    )\n",
    "    SELECT employees.id, employees.name, employees.surname, COUNT(assignment.competence_id) AS num_competences\n",
    "    FROM employees\n",
    "    JOIN assignment ON employees.id = assignment.employee_id\n",
    "    WHERE assignment.competence_id IN (SELECT competence_id FROM jane_competences) \n",
    "        AND NOT(employees.name = 'Jane' AND employees.surname = 'Wilson')\n",
    "    GROUP BY employees.id, employees.name, employees.surname\n",
    "    ORDER BY num_competences DESC;\n",
    "\"\"\"\n",
    "\n",
    "# Execute the custom query\n",
    "cur.execute(custom_query)\n",
    "custom_results = cur.fetchall()\n",
    "# Get the column names\n",
    "columns = [desc[0] for desc in cur.description]\n",
    "\n",
    "# Print the custom query results as a table\n",
    "for col in columns:\n",
    "    print(col, end=\"\\t\")\n",
    "print()\n",
    "for row in custom_results:\n",
    "    for col in row:\n",
    "        print(col, end=\"\\t\")\n",
    "    print()"
   ]
  },
  {
   "cell_type": "code",
   "execution_count": null,
   "id": "33e58779-f187-414e-b095-1053ca775216",
   "metadata": {},
   "outputs": [],
   "source": [
    "# Close the cursor and the connection\n",
    "cur.close()\n",
    "conn.close()"
   ]
  }
 ],
 "metadata": {
  "kernelspec": {
   "display_name": "Python 3 (ipykernel)",
   "language": "python",
   "name": "python3"
  },
  "language_info": {
   "codemirror_mode": {
    "name": "ipython",
    "version": 3
   },
   "file_extension": ".py",
   "mimetype": "text/x-python",
   "name": "python",
   "nbconvert_exporter": "python",
   "pygments_lexer": "ipython3",
   "version": "3.11.4"
  }
 },
 "nbformat": 4,
 "nbformat_minor": 5
}
