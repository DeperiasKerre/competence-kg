{
 "cells": [
  {
   "cell_type": "code",
   "execution_count": 1,
   "id": "8db0e8fd-76d5-4a60-b1e5-d946dc8f2b85",
   "metadata": {},
   "outputs": [
    {
     "name": "stdout",
     "output_type": "stream",
     "text": [
      "Collecting neo4j==5.0.1\n",
      "  Downloading neo4j-5.0.1.tar.gz (172 kB)\n",
      "\u001b[2K     \u001b[90m━━━━━━━━━━━━━━━━━━━━━━━━━━━━━━━━━━━━━━━\u001b[0m \u001b[32m172.4/172.4 kB\u001b[0m \u001b[31m8.2 MB/s\u001b[0m eta \u001b[36m0:00:00\u001b[0m\n",
      "\u001b[?25h  Preparing metadata (setup.py) ... \u001b[?25ldone\n",
      "\u001b[?25hRequirement already satisfied: pytz in /opt/conda/lib/python3.11/site-packages (from neo4j==5.0.1) (2023.3)\n",
      "Building wheels for collected packages: neo4j\n",
      "  Building wheel for neo4j (setup.py) ... \u001b[?25ldone\n",
      "\u001b[?25h  Created wheel for neo4j: filename=neo4j-5.0.1-py3-none-any.whl size=247362 sha256=1701889fb77cadc76f10ccbbc307b83f9fbf737017e691cf0452fdbaab115a6e\n",
      "  Stored in directory: /home/jovyan/.cache/pip/wheels/c2/33/c6/fa22720f17810f856b71d7a5bfb579f56f6eb1fc00ba00262a\n",
      "Successfully built neo4j\n",
      "Installing collected packages: neo4j\n",
      "Successfully installed neo4j-5.0.1\n"
     ]
    }
   ],
   "source": [
    "import sys\n",
    "!{sys.executable} -m pip install neo4j==5.0.1"
   ]
  },
  {
   "cell_type": "code",
   "execution_count": 3,
   "id": "f74c8541-2658-4e7c-8eab-79fa680199b4",
   "metadata": {},
   "outputs": [],
   "source": [
    "# Import the neo4j dependency\n",
    "from neo4j import GraphDatabase\n",
    "\n",
    "uri = \"neo4j://corso-kg-neo4j:7687\"\n",
    "\n",
    "username = 'neo4j'\n",
    "password = 'kgCefriel'\n",
    "auth = (username, password)\n",
    "\n",
    "# Create a new Driver instance\n",
    "driver = GraphDatabase.driver(uri,auth=auth)\n",
    "driver.verify_connectivity()"
   ]
  },
  {
   "cell_type": "code",
   "execution_count": 4,
   "id": "b83cf41b-db7d-4754-a1fb-0690a462e0c2",
   "metadata": {},
   "outputs": [
    {
     "name": "stdout",
     "output_type": "stream",
     "text": [
      "Create constraints\n",
      "Create competences\n",
      "Create units\n",
      "Create employees\n",
      "Load assignments\n",
      "Load interest\n"
     ]
    }
   ],
   "source": [
    "from os import listdir, getcwd\n",
    "from os.path import abspath, basename, isfile, join, dirname\n",
    "\n",
    "folder = dirname(getcwd())\n",
    "import_path = join(folder, \"data\")\n",
    "\n",
    "with driver.session() as session:\n",
    "    def create_constraint_competences(tx):\n",
    "        return tx.run(\"\"\"\n",
    "            CREATE CONSTRAINT CompetenceId IF NOT EXISTS ON (c:Competence) ASSERT c.competenceId IS UNIQUE\n",
    "            \"\"\")\n",
    "    def create_constraint_users(tx):\n",
    "        return tx.run(\"\"\"\n",
    "            CREATE CONSTRAINT EmployeeId IF NOT EXISTS ON (e:Employee) ASSERT e.employeeId IS UNIQUE\n",
    "            \"\"\")\n",
    "    print(\"Create constraints\")\n",
    "    session.execute_write(create_constraint_competences)\n",
    "    session.execute_write(create_constraint_users)\n",
    "\n",
    "    def create_competences(tx):\n",
    "        return tx.run(\"\"\"\n",
    "            LOAD CSV WITH HEADERS\n",
    "            FROM \"file:///competences.csv\"\n",
    "            AS row\n",
    "            MERGE (c:Competence {competenceId: row.id})\n",
    "            ON CREATE SET\n",
    "            c.name = row.competence,\n",
    "            c.description = row.description,\n",
    "            c.dimension = row.dimension\n",
    "            \"\"\")\n",
    "    print(\"Create competences\")\n",
    "    session.execute_write(create_competences)\n",
    "\n",
    "    def create_units(tx):\n",
    "        return tx.run(\"\"\"\n",
    "            LOAD CSV WITH HEADERS\n",
    "            FROM \"file:///employees.csv\"\n",
    "            AS row\n",
    "            MERGE (u:Unit {name: row.unit})\n",
    "            \"\"\")\n",
    "    print(\"Create units\")\n",
    "    session.execute_write(create_units)\n",
    "\n",
    "    def create_employees(tx):\n",
    "        return tx.run(\"\"\"\n",
    "            LOAD CSV WITH HEADERS\n",
    "            FROM \"file:///employees.csv\"\n",
    "            AS row\n",
    "            MERGE (e:Employee {employeeId: row.id})\n",
    "            ON CREATE SET\n",
    "            e.name = row.name,\n",
    "            e.surname = row.surname\n",
    "            WITH e, row\n",
    "            MATCH (u:Unit {name: row.unit})\n",
    "            MERGE (e)-[r:BELONGS_TO]->(u)\n",
    "            \"\"\")\n",
    "    print(\"Create employees\")\n",
    "    session.execute_write(create_employees)\n",
    "\n",
    "    def load_assignments(tx):\n",
    "        cypher = \"\"\"\n",
    "            LOAD CSV WITH HEADERS\n",
    "            FROM \"file:///assignment.csv\"\n",
    "            AS row\n",
    "            MATCH (e:Employee {employeeId: row.employee_id})\n",
    "            MATCH (c:Competence {competenceId: row.competence_id})\n",
    "            MERGE (e)-[r:HAS_COMPETENCE]->(c)\n",
    "            ON CREATE SET r.level = row.level\n",
    "        \"\"\"\n",
    "        return tx.run(cypher)\n",
    "    print(\"Load assignments\")\n",
    "    session.execute_write(load_assignments)\n",
    "    \n",
    "    def load_interest(tx):\n",
    "        cypher = \"\"\"\n",
    "            LOAD CSV WITH HEADERS\n",
    "            FROM \"file:///assignment.csv\"\n",
    "            AS row\n",
    "            WITH row WHERE row.interest = \"1\"\n",
    "            MATCH (e:Employee {employeeId: row.employee_id})\n",
    "            MATCH (c:Competence {competenceId: row.competence_id})\n",
    "            MERGE (e)-[r:HAS_INTEREST]->(c)\n",
    "        \"\"\"\n",
    "        return tx.run(cypher)\n",
    "    print(\"Load interest\")\n",
    "    session.execute_write(load_interest)"
   ]
  },
  {
   "cell_type": "code",
   "execution_count": 5,
   "id": "dd912652-cba1-46c0-acb5-cb2c23ce8c61",
   "metadata": {},
   "outputs": [],
   "source": [
    "def execute_query(custom_query):\n",
    "    # Execute the custom query\n",
    "    with driver.session() as session:\n",
    "        result = session.run(custom_query)\n",
    "    \n",
    "        # Extract the column names and rows from the query result\n",
    "        columns = result.keys()\n",
    "        rows = result.data()\n",
    "    \n",
    "        # Print the custom query results as a table\n",
    "        for col in columns:\n",
    "            print(col, end=\"\\t\")\n",
    "        print()\n",
    "        for row in rows:\n",
    "            for col in columns:\n",
    "                print(row[col], end=\"\\t\")\n",
    "            print()"
   ]
  },
  {
   "cell_type": "code",
   "execution_count": 20,
   "id": "b2fa9b19-1afd-4dd9-8ea0-b996b946b4aa",
   "metadata": {},
   "outputs": [
    {
     "name": "stdout",
     "output_type": "stream",
     "text": [
      "id\tcompetence\t\n",
      "2.5\tNetiquette\t\n",
      "3.3\tCopyright and licences\t\n",
      "4.2\tProtecting personal data and privacy\t\n",
      "5.3\tCreatively using digital technologies\t\n",
      "2.1\tInteracting through digital technologies\t\n",
      "1.3\tManaging data, information and digital content\t\n",
      "4.4\tProtecting the environment\t\n",
      "5.1\tSolving technical problems\t\n",
      "4.3\tProtecting health and well-being\t\n",
      "3.4\tProgramming\t\n"
     ]
    }
   ],
   "source": [
    "# Competences of an employee\n",
    "custom_query = \"\"\"\n",
    "    MATCH (e:Employee {name:\"Jane\", surname:\"Brown\"})-[:HAS_COMPETENCE]->(c:Competence) \n",
    "    RETURN c.competenceId AS id, c.name AS competence\n",
    "\"\"\"\n",
    "execute_query(custom_query)"
   ]
  },
  {
   "cell_type": "code",
   "execution_count": 21,
   "id": "44ac1028-0e34-4ac6-8eee-48031def66a1",
   "metadata": {},
   "outputs": [
    {
     "name": "stdout",
     "output_type": "stream",
     "text": [
      "e.name\te.surname\t\n",
      "Olivia\tWilson\t\n",
      "David\tBrown\t\n",
      "Jane\tTaylor\t\n",
      "David\tDavis\t\n",
      "Emma\tJohnson\t\n",
      "David\tMiller\t\n",
      "Michael\tWilson\t\n",
      "Jane\tDavis\t\n",
      "David\tHarris\t\n",
      "David\tTaylor\t\n",
      "Daniel\tBrown\t\n",
      "Emma\tClark\t\n",
      "Sophia\tJohnson\t\n",
      "Sophia\tHarris\t\n",
      "Jane\tBrown\t\n",
      "Michael\tJohnson\t\n",
      "David\tMiller\t\n"
     ]
    }
   ],
   "source": [
    "# Employees with a given competence\n",
    "competence = \"3.4\"\n",
    "custom_query = f\"\"\"\n",
    "    MATCH (e:Employee)-[:HAS_COMPETENCE]->(c:Competence {{ competenceId : '{competence}'}}) \n",
    "    RETURN e.name, e.surname\n",
    "\"\"\"\n",
    "execute_query(custom_query)"
   ]
  },
  {
   "cell_type": "code",
   "execution_count": 22,
   "id": "bc752dc1-97ca-4020-817e-0e7e25a0b850",
   "metadata": {},
   "outputs": [
    {
     "name": "stdout",
     "output_type": "stream",
     "text": [
      "c.name\tcollect(oe.employeeId)\t\n",
      "Netiquette\t['EMPLOYEE_19', 'EMPLOYEE_12', 'EMPLOYEE_20', 'EMPLOYEE_21', 'EMPLOYEE_4', 'EMPLOYEE_9', 'EMPLOYEE_13', 'EMPLOYEE_6', 'EMPLOYEE_16', 'EMPLOYEE_8', 'EMPLOYEE_15', 'EMPLOYEE_23', 'EMPLOYEE_10', 'EMPLOYEE_22', 'EMPLOYEE_5', 'EMPLOYEE_1']\t\n",
      "Copyright and licences\t['EMPLOYEE_16', 'EMPLOYEE_22', 'EMPLOYEE_2', 'EMPLOYEE_13', 'EMPLOYEE_4', 'EMPLOYEE_27', 'EMPLOYEE_29', 'EMPLOYEE_30', 'EMPLOYEE_20', 'EMPLOYEE_6', 'EMPLOYEE_28', 'EMPLOYEE_8', 'EMPLOYEE_23', 'EMPLOYEE_3']\t\n",
      "Protecting personal data and privacy\t['EMPLOYEE_17', 'EMPLOYEE_16', 'EMPLOYEE_23', 'EMPLOYEE_10', 'EMPLOYEE_2', 'EMPLOYEE_19', 'EMPLOYEE_30', 'EMPLOYEE_22', 'EMPLOYEE_8', 'EMPLOYEE_3', 'EMPLOYEE_29', 'EMPLOYEE_4', 'EMPLOYEE_15', 'EMPLOYEE_20']\t\n",
      "Creatively using digital technologies\t['EMPLOYEE_6', 'EMPLOYEE_16', 'EMPLOYEE_21', 'EMPLOYEE_3', 'EMPLOYEE_22', 'EMPLOYEE_30', 'EMPLOYEE_23', 'EMPLOYEE_10', 'EMPLOYEE_8', 'EMPLOYEE_19', 'EMPLOYEE_12', 'EMPLOYEE_2', 'EMPLOYEE_29', 'EMPLOYEE_4', 'EMPLOYEE_15', 'EMPLOYEE_9', 'EMPLOYEE_13']\t\n",
      "Interacting through digital technologies\t['EMPLOYEE_10', 'EMPLOYEE_23', 'EMPLOYEE_25', 'EMPLOYEE_27', 'EMPLOYEE_4', 'EMPLOYEE_2', 'EMPLOYEE_6', 'EMPLOYEE_21', 'EMPLOYEE_16', 'EMPLOYEE_12', 'EMPLOYEE_15', 'EMPLOYEE_19', 'EMPLOYEE_22', 'EMPLOYEE_28', 'EMPLOYEE_18', 'EMPLOYEE_20', 'EMPLOYEE_1']\t\n",
      "Managing data, information and digital content\t['EMPLOYEE_22', 'EMPLOYEE_29', 'EMPLOYEE_23', 'EMPLOYEE_6', 'EMPLOYEE_4', 'EMPLOYEE_17', 'EMPLOYEE_3', 'EMPLOYEE_15', 'EMPLOYEE_10', 'EMPLOYEE_16', 'EMPLOYEE_28', 'EMPLOYEE_9', 'EMPLOYEE_30', 'EMPLOYEE_8', 'EMPLOYEE_12', 'EMPLOYEE_2']\t\n",
      "Protecting the environment\t['EMPLOYEE_16', 'EMPLOYEE_4', 'EMPLOYEE_23', 'EMPLOYEE_2', 'EMPLOYEE_20', 'EMPLOYEE_9', 'EMPLOYEE_29', 'EMPLOYEE_27', 'EMPLOYEE_12', 'EMPLOYEE_19', 'EMPLOYEE_13', 'EMPLOYEE_8']\t\n",
      "Solving technical problems\t['EMPLOYEE_8', 'EMPLOYEE_4', 'EMPLOYEE_29', 'EMPLOYEE_12', 'EMPLOYEE_3', 'EMPLOYEE_22', 'EMPLOYEE_24', 'EMPLOYEE_16', 'EMPLOYEE_20', 'EMPLOYEE_10', 'EMPLOYEE_13', 'EMPLOYEE_23', 'EMPLOYEE_6', 'EMPLOYEE_19', 'EMPLOYEE_27', 'EMPLOYEE_1']\t\n",
      "Protecting health and well-being\t['EMPLOYEE_5', 'EMPLOYEE_3', 'EMPLOYEE_22', 'EMPLOYEE_21', 'EMPLOYEE_6', 'EMPLOYEE_29', 'EMPLOYEE_17', 'EMPLOYEE_8', 'EMPLOYEE_23', 'EMPLOYEE_9', 'EMPLOYEE_4', 'EMPLOYEE_2', 'EMPLOYEE_12']\t\n",
      "Programming\t['EMPLOYEE_24', 'EMPLOYEE_4', 'EMPLOYEE_23', 'EMPLOYEE_16', 'EMPLOYEE_15', 'EMPLOYEE_17', 'EMPLOYEE_10', 'EMPLOYEE_6', 'EMPLOYEE_19', 'EMPLOYEE_5', 'EMPLOYEE_29', 'EMPLOYEE_30', 'EMPLOYEE_22', 'EMPLOYEE_20', 'EMPLOYEE_28', 'EMPLOYEE_8']\t\n"
     ]
    }
   ],
   "source": [
    "# Employees having the competences of an employee\n",
    "custom_query = \"\"\"\n",
    "    MATCH (e:Employee {name:\"Jane\", surname:\"Brown\"})-[:HAS_COMPETENCE]->(c:Competence)<-[:HAS_COMPETENCE]-(oe:Employee) \n",
    "    RETURN c.name, collect(oe.employeeId)\n",
    "\"\"\"\n",
    "execute_query(custom_query)"
   ]
  },
  {
   "cell_type": "code",
   "execution_count": 19,
   "id": "39feed1c-7e94-4b52-b566-a4f6c53eb14a",
   "metadata": {},
   "outputs": [
    {
     "name": "stdout",
     "output_type": "stream",
     "text": [
      "name\tsurname\tnum_common_competences\t\n",
      "David\tBrown\t10\t\n",
      "Jane\tTaylor\t10\t\n",
      "David\tDavis\t9\t\n",
      "David\tMiller\t9\t\n",
      "Sophia\tJohnson\t9\t\n",
      "Jane\tDavis\t8\t\n",
      "Daniel\tBrown\t8\t\n",
      "David\tHarris\t7\t\n",
      "David\tJohnson\t7\t\n",
      "Sophia\tHarris\t7\t\n",
      "Michael\tWilson\t7\t\n",
      "David\tBrown\t7\t\n",
      "Emma\tJohnson\t6\t\n",
      "Olivia\tDavis\t6\t\n",
      "Andrew\tWilson\t5\t\n",
      "Daniel\tDavis\t5\t\n",
      "Emma\tClark\t5\t\n",
      "Olivia\tClark\t4\t\n",
      "Sophia\tDavis\t4\t\n",
      "Michael\tJohnson\t4\t\n",
      "David\tMiller\t4\t\n",
      "David\tTaylor\t3\t\n",
      "Jane\tSmith\t3\t\n",
      "Olivia\tWilson\t2\t\n",
      "Emily\tWilson\t1\t\n",
      "Emily\tBrown\t1\t\n"
     ]
    }
   ],
   "source": [
    "# More \"similar\" employees\n",
    "custom_query = \"\"\"\n",
    "    MATCH (e:Employee {name:\"Jane\", surname:\"Brown\"})-[:HAS_COMPETENCE]->(c:Competence)<-[:HAS_COMPETENCE]-(oe:Employee)\n",
    "    WITH e, oe, COLLECT(c) as competences\n",
    "    RETURN oe.name AS name, oe.surname AS surname, size(competences) as num_common_competences ORDER BY num_common_competences DESC\n",
    "\"\"\"\n",
    "execute_query(custom_query)"
   ]
  },
  {
   "cell_type": "code",
   "execution_count": null,
   "id": "2fad1566-6bd3-4cf4-b8f6-8a49faf108f1",
   "metadata": {},
   "outputs": [],
   "source": [
    "# Close the Neo4j driver\n",
    "driver.close()"
   ]
  }
 ],
 "metadata": {
  "kernelspec": {
   "display_name": "Python 3 (ipykernel)",
   "language": "python",
   "name": "python3"
  },
  "language_info": {
   "codemirror_mode": {
    "name": "ipython",
    "version": 3
   },
   "file_extension": ".py",
   "mimetype": "text/x-python",
   "name": "python",
   "nbconvert_exporter": "python",
   "pygments_lexer": "ipython3",
   "version": "3.11.4"
  }
 },
 "nbformat": 4,
 "nbformat_minor": 5
}
