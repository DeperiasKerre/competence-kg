{
 "cells": [
  {
   "cell_type": "code",
   "execution_count": 1,
   "id": "8db0e8fd-76d5-4a60-b1e5-d946dc8f2b85",
   "metadata": {},
   "outputs": [
    {
     "name": "stdout",
     "output_type": "stream",
     "text": [
      "Requirement already satisfied: neo4j==5.0.1 in /opt/conda/lib/python3.11/site-packages (5.0.1)\n",
      "Requirement already satisfied: pytz in /opt/conda/lib/python3.11/site-packages (from neo4j==5.0.1) (2023.3)\n"
     ]
    }
   ],
   "source": [
    "import sys\n",
    "!{sys.executable} -m pip install neo4j==5.0.1"
   ]
  },
  {
   "cell_type": "code",
   "execution_count": 23,
   "id": "f74c8541-2658-4e7c-8eab-79fa680199b4",
   "metadata": {},
   "outputs": [],
   "source": [
    "# Import the neo4j dependency\n",
    "from neo4j import GraphDatabase\n",
    "\n",
    "uri = \"neo4j://corso-kg-neo4j:7687\"\n",
    "\n",
    "username = 'neo4j'\n",
    "password = 'kgCefriel'\n",
    "auth = (username, password)\n",
    "\n",
    "# Create a new Driver instance\n",
    "driver = GraphDatabase.driver(uri,auth=auth)\n",
    "driver.verify_connectivity()"
   ]
  },
  {
   "cell_type": "code",
   "execution_count": 25,
   "id": "b83cf41b-db7d-4754-a1fb-0690a462e0c2",
   "metadata": {},
   "outputs": [
    {
     "name": "stdout",
     "output_type": "stream",
     "text": [
      "Create constraints\n",
      "Create competences\n",
      "Create units\n",
      "Create employees\n",
      "Load assignments\n",
      "Load interest\n"
     ]
    }
   ],
   "source": [
    "from os import listdir, getcwd\n",
    "from os.path import abspath, basename, isfile, join, dirname\n",
    "\n",
    "folder = dirname(getcwd())\n",
    "import_path = join(folder, \"data\")\n",
    "\n",
    "with driver.session() as session:\n",
    "    def create_constraint_competences(tx):\n",
    "        return tx.run(\"\"\"\n",
    "            CREATE CONSTRAINT CompetenceId IF NOT EXISTS ON (c:Competence) ASSERT c.competenceId IS UNIQUE\n",
    "            \"\"\")\n",
    "    def create_constraint_users(tx):\n",
    "        return tx.run(\"\"\"\n",
    "            CREATE CONSTRAINT EmployeeId IF NOT EXISTS ON (e:Employee) ASSERT e.employeeId IS UNIQUE\n",
    "            \"\"\")\n",
    "    print(\"Create constraints\")\n",
    "    session.execute_write(create_constraint_competences)\n",
    "    session.execute_write(create_constraint_users)\n",
    "\n",
    "    def create_competences(tx):\n",
    "        return tx.run(\"\"\"\n",
    "            LOAD CSV WITH HEADERS\n",
    "            FROM \"file:///competences.csv\"\n",
    "            AS row\n",
    "            MERGE (c:Competence {competenceId: row.id})\n",
    "            ON CREATE SET\n",
    "            c.dimension = row.dimension,\n",
    "            c.source = row.source,\n",
    "            c.competence = row.competence,\n",
    "            c.description = row.description\n",
    "            \"\"\")\n",
    "    print(\"Create competences\")\n",
    "    session.execute_write(create_competences)\n",
    "\n",
    "    def create_units(tx):\n",
    "        return tx.run(\"\"\"\n",
    "            LOAD CSV WITH HEADERS\n",
    "            FROM \"file:///employees.csv\"\n",
    "            AS row\n",
    "            MERGE (u:Unit {unitName: row.unit})\n",
    "            \"\"\")\n",
    "    print(\"Create units\")\n",
    "    session.execute_write(create_units)\n",
    "\n",
    "    def create_employees(tx):\n",
    "        return tx.run(\"\"\"\n",
    "            LOAD CSV WITH HEADERS\n",
    "            FROM \"file:///employees.csv\"\n",
    "            AS row\n",
    "            MERGE (e:Employee {employeeId: row.id})\n",
    "            ON CREATE SET\n",
    "            e.name = row.name,\n",
    "            e.surname = row.surname\n",
    "            WITH e, row\n",
    "            MATCH (u:Unit {unitName: row.unit})\n",
    "            MERGE (e)-[r:IN_UNIT]->(u)\n",
    "            \"\"\")\n",
    "    print(\"Create employees\")\n",
    "    session.execute_write(create_employees)\n",
    "\n",
    "    def load_assignments(tx):\n",
    "        cypher = \"\"\"\n",
    "            LOAD CSV WITH HEADERS\n",
    "            FROM \"file:///assignment.csv\"\n",
    "            AS row\n",
    "            MATCH (e:Employee {employeeId: row.employee_id})\n",
    "            MATCH (c:Competence {competenceId: row.competence_id})\n",
    "            MERGE (e)-[r:HAS_COMPETENCE]->(c)\n",
    "            ON CREATE SET r.level = row.level\n",
    "        \"\"\"\n",
    "        return tx.run(cypher)\n",
    "    print(\"Load assignments\")\n",
    "    session.execute_write(load_assignments)\n",
    "    \n",
    "    def load_interest(tx):\n",
    "        cypher = \"\"\"\n",
    "            LOAD CSV WITH HEADERS\n",
    "            FROM \"file:///assignment.csv\"\n",
    "            AS row\n",
    "            WITH row WHERE row.interest = \"1\"\n",
    "            MATCH (e:Employee {employeeId: row.employee_id})\n",
    "            MATCH (c:Competence {competenceId: row.competence_id})\n",
    "            MERGE (e)-[r:INTERESTED_IN]->(c)\n",
    "        \"\"\"\n",
    "        return tx.run(cypher)\n",
    "    print(\"Load interest\")\n",
    "    session.execute_write(load_interest)"
   ]
  },
  {
   "cell_type": "code",
   "execution_count": 12,
   "id": "dd912652-cba1-46c0-acb5-cb2c23ce8c61",
   "metadata": {},
   "outputs": [],
   "source": [
    "def execute_query(custom_query):\n",
    "    # Execute the custom query\n",
    "    with driver.session() as session:\n",
    "        result = session.run(custom_query)\n",
    "    \n",
    "        # Extract the column names and rows from the query result\n",
    "        columns = result.keys()\n",
    "        rows = result.data()\n",
    "    \n",
    "        # Print the custom query results as a table\n",
    "        for col in columns:\n",
    "            print(col, end=\"\\t\")\n",
    "        print()\n",
    "        for row in rows:\n",
    "            for col in columns:\n",
    "                print(row[col], end=\"\\t\")\n",
    "            print()"
   ]
  },
  {
   "cell_type": "code",
   "execution_count": 22,
   "id": "c5b88dd6-1a58-4c57-b7c7-512d7087ad5b",
   "metadata": {},
   "outputs": [
    {
     "name": "stdout",
     "output_type": "stream",
     "text": [
      "name\tsurname\t\n",
      "Jane\tWilson\t\n",
      "Jane\tSmith\t\n",
      "Jane\tBrown\t\n"
     ]
    }
   ],
   "source": [
    "# Other employees having same competences\n",
    "custom_query = \"\"\"\n",
    "    MATCH (e:Employee {name:\"Jane\"})\n",
    "    RETURN e.name AS name, e.surname AS surname\n",
    "\"\"\"\n",
    "execute_query(custom_query)"
   ]
  },
  {
   "cell_type": "code",
   "execution_count": 16,
   "id": "b2fa9b19-1afd-4dd9-8ea0-b996b946b4aa",
   "metadata": {},
   "outputs": [
    {
     "name": "stdout",
     "output_type": "stream",
     "text": [
      "competence\temployees\t\n",
      "Netiquette\t['EMPLOYEE_20', 'EMPLOYEE_12', 'EMPLOYEE_21', 'EMPLOYEE_8', 'EMPLOYEE_17', 'EMPLOYEE_19', 'EMPLOYEE_2', 'EMPLOYEE_13']\t\n",
      "Developing digital content\t['EMPLOYEE_28', 'EMPLOYEE_12', 'EMPLOYEE_18', 'EMPLOYEE_25', 'EMPLOYEE_2', 'EMPLOYEE_29', 'EMPLOYEE_6', 'EMPLOYEE_15', 'EMPLOYEE_9', 'EMPLOYEE_23']\t\n",
      "Protecting personal data and privacy\t['EMPLOYEE_19', 'EMPLOYEE_14', 'EMPLOYEE_22', 'EMPLOYEE_17', 'EMPLOYEE_4', 'EMPLOYEE_18', 'EMPLOYEE_21', 'EMPLOYEE_25', 'EMPLOYEE_12', 'EMPLOYEE_26', 'EMPLOYEE_11', 'EMPLOYEE_9', 'EMPLOYEE_24', 'EMPLOYEE_29', 'EMPLOYEE_7', 'EMPLOYEE_20', 'EMPLOYEE_6', 'EMPLOYEE_2']\t\n",
      "Interacting through digital technologies\t['EMPLOYEE_16', 'EMPLOYEE_13', 'EMPLOYEE_20', 'EMPLOYEE_3', 'EMPLOYEE_27', 'EMPLOYEE_21', 'EMPLOYEE_8', 'EMPLOYEE_11', 'EMPLOYEE_30', 'EMPLOYEE_1', 'EMPLOYEE_9']\t\n"
     ]
    }
   ],
   "source": [
    "# Other employees having the same competences\n",
    "custom_query = \"\"\"\n",
    "    MATCH (e:Employee {name:\"Jane\", surname:\"Wilson\"})-[:HAS_COMPETENCE]->(c:Competence)<-[:HAS_COMPETENCE]-(oe:Employee) \n",
    "    RETURN c.competence AS competence, collect(oe.employeeId) AS employees\n",
    "\"\"\"\n",
    "execute_query(custom_query)"
   ]
  },
  {
   "cell_type": "code",
   "execution_count": 19,
   "id": "39feed1c-7e94-4b52-b566-a4f6c53eb14a",
   "metadata": {},
   "outputs": [
    {
     "name": "stdout",
     "output_type": "stream",
     "text": [
      "employee\tnum\t\n",
      "EMPLOYEE_20\t3\t\n",
      "EMPLOYEE_12\t3\t\n",
      "EMPLOYEE_21\t3\t\n",
      "EMPLOYEE_2\t3\t\n",
      "EMPLOYEE_9\t3\t\n",
      "EMPLOYEE_8\t2\t\n",
      "EMPLOYEE_17\t2\t\n",
      "EMPLOYEE_19\t2\t\n",
      "EMPLOYEE_13\t2\t\n",
      "EMPLOYEE_18\t2\t\n",
      "EMPLOYEE_25\t2\t\n",
      "EMPLOYEE_29\t2\t\n",
      "EMPLOYEE_6\t2\t\n",
      "EMPLOYEE_11\t2\t\n",
      "EMPLOYEE_28\t1\t\n",
      "EMPLOYEE_15\t1\t\n",
      "EMPLOYEE_23\t1\t\n",
      "EMPLOYEE_14\t1\t\n",
      "EMPLOYEE_22\t1\t\n",
      "EMPLOYEE_4\t1\t\n",
      "EMPLOYEE_26\t1\t\n",
      "EMPLOYEE_24\t1\t\n",
      "EMPLOYEE_7\t1\t\n",
      "EMPLOYEE_16\t1\t\n",
      "EMPLOYEE_3\t1\t\n",
      "EMPLOYEE_27\t1\t\n",
      "EMPLOYEE_30\t1\t\n",
      "EMPLOYEE_1\t1\t\n"
     ]
    }
   ],
   "source": [
    "# More \"similar\" employees\n",
    "custom_query = \"\"\"\n",
    "    MATCH (e:Employee {name:\"Jane\", surname:\"Wilson\"})-[:HAS_COMPETENCE]->(c:Competence)<-[:HAS_COMPETENCE]-(oe:Employee) \n",
    "    RETURN oe.employeeId AS employee, count(c) as num ORDER BY num DESC\n",
    "\"\"\"\n",
    "execute_query(custom_query)"
   ]
  },
  {
   "cell_type": "code",
   "execution_count": null,
   "id": "2fad1566-6bd3-4cf4-b8f6-8a49faf108f1",
   "metadata": {},
   "outputs": [],
   "source": [
    "# Close the Neo4j driver\n",
    "driver.close()"
   ]
  }
 ],
 "metadata": {
  "kernelspec": {
   "display_name": "Python 3 (ipykernel)",
   "language": "python",
   "name": "python3"
  },
  "language_info": {
   "codemirror_mode": {
    "name": "ipython",
    "version": 3
   },
   "file_extension": ".py",
   "mimetype": "text/x-python",
   "name": "python",
   "nbconvert_exporter": "python",
   "pygments_lexer": "ipython3",
   "version": "3.11.4"
  }
 },
 "nbformat": 4,
 "nbformat_minor": 5
}
