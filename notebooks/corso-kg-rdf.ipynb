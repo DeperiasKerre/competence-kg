{
 "cells": [
  {
   "cell_type": "code",
   "execution_count": 2,
   "id": "04ce129b-0e6b-4e5a-b2f2-e61263c80736",
   "metadata": {},
   "outputs": [
    {
     "name": "stdout",
     "output_type": "stream",
     "text": [
      "Requirement already satisfied: rdflib in /opt/conda/lib/python3.11/site-packages (7.0.0)\n",
      "Collecting yatter\n",
      "  Downloading yatter-1.1.0-py3-none-any.whl (21 kB)\n",
      "Collecting morph-kgc\n",
      "  Obtaining dependency information for morph-kgc from https://files.pythonhosted.org/packages/ea/4a/58e493fcfe35cfac4b2312f2d246e3f404956086cf7125b1ffc8ef1508ef/morph_kgc-2.6.3-py3-none-any.whl.metadata\n",
      "  Downloading morph_kgc-2.6.3-py3-none-any.whl.metadata (10 kB)\n",
      "Requirement already satisfied: isodate<0.7.0,>=0.6.0 in /opt/conda/lib/python3.11/site-packages (from rdflib) (0.6.1)\n",
      "Requirement already satisfied: pyparsing<4,>=2.1.0 in /opt/conda/lib/python3.11/site-packages (from rdflib) (3.0.9)\n",
      "Requirement already satisfied: ruamel.yaml>=0.17.21 in /opt/conda/lib/python3.11/site-packages (from yatter) (0.17.32)\n",
      "Collecting coloredlogs>=15.0.1 (from yatter)\n",
      "  Downloading coloredlogs-15.0.1-py2.py3-none-any.whl (46 kB)\n",
      "\u001b[2K     \u001b[90m━━━━━━━━━━━━━━━━━━━━━━━━━━━━━━━━━━━━━━━━\u001b[0m \u001b[32m46.0/46.0 kB\u001b[0m \u001b[31m7.6 MB/s\u001b[0m eta \u001b[36m0:00:00\u001b[0m\n",
      "\u001b[?25hCollecting duckdb<0.8.0,>=0.7.0 (from morph-kgc)\n",
      "  Downloading duckdb-0.7.1-cp311-cp311-manylinux_2_17_x86_64.manylinux2014_x86_64.whl (15.2 MB)\n",
      "\u001b[2K     \u001b[90m━━━━━━━━━━━━━━━━━━━━━━━━━━━━━━━━━━━━━━━━\u001b[0m \u001b[32m15.2/15.2 MB\u001b[0m \u001b[31m8.8 MB/s\u001b[0m eta \u001b[36m0:00:00\u001b[0m00:01\u001b[0m:00:01\u001b[0m\n",
      "\u001b[?25hCollecting elementpath<5.0.0,>=4.0.0 (from morph-kgc)\n",
      "  Obtaining dependency information for elementpath<5.0.0,>=4.0.0 from https://files.pythonhosted.org/packages/eb/4f/fecd0fc5adc5f91a6154189ea7b2192cf62ce7d685a0e9b23737acb31808/elementpath-4.1.5-py3-none-any.whl.metadata\n",
      "  Downloading elementpath-4.1.5-py3-none-any.whl.metadata (6.7 kB)\n",
      "Collecting falcon<4.0.0,>=3.0.0 (from morph-kgc)\n",
      "  Downloading falcon-3.1.1-cp311-cp311-manylinux_2_17_x86_64.manylinux2014_x86_64.whl (9.1 MB)\n",
      "\u001b[2K     \u001b[90m━━━━━━━━━━━━━━━━━━━━━━━━━━━━━━━━━━━━━━━━\u001b[0m \u001b[32m9.1/9.1 MB\u001b[0m \u001b[31m10.8 MB/s\u001b[0m eta \u001b[36m0:00:00\u001b[0ma \u001b[36m0:00:01\u001b[0mm\n",
      "\u001b[?25hCollecting jsonpath-python<2.0.0,>=1.0.6 (from morph-kgc)\n",
      "  Downloading jsonpath_python-1.0.6-py3-none-any.whl (7.6 kB)\n",
      "Requirement already satisfied: pandas<3.0.0,>=2.0.0 in /opt/conda/lib/python3.11/site-packages (from morph-kgc) (2.0.3)\n",
      "Collecting pyoxigraph<0.4.0,>=0.3.0 (from morph-kgc)\n",
      "  Obtaining dependency information for pyoxigraph<0.4.0,>=0.3.0 from https://files.pythonhosted.org/packages/30/a4/1e820e3f4764876457eda24597ae1585cf4a9ab1c87aa00bec9f384a4f0f/pyoxigraph-0.3.19-cp311-cp311-manylinux_2_17_x86_64.manylinux2014_x86_64.whl.metadata\n",
      "  Downloading pyoxigraph-0.3.19-cp311-cp311-manylinux_2_17_x86_64.manylinux2014_x86_64.whl.metadata (5.3 kB)\n",
      "Collecting sql-metadata<3.0.0,>=2.6.0 (from morph-kgc)\n",
      "  Obtaining dependency information for sql-metadata<3.0.0,>=2.6.0 from https://files.pythonhosted.org/packages/c3/86/79cf7b55c7ffec6e817252ac8aaa6337969fe36b2085b5d9a29f32e1ea38/sql_metadata-2.9.0-py3-none-any.whl.metadata\n",
      "  Downloading sql_metadata-2.9.0-py3-none-any.whl.metadata (9.7 kB)\n",
      "Requirement already satisfied: sqlalchemy<3.0.0,>=2.0.0 in /opt/conda/lib/python3.11/site-packages (from morph-kgc) (2.0.19)\n",
      "Collecting humanfriendly>=9.1 (from coloredlogs>=15.0.1->yatter)\n",
      "  Downloading humanfriendly-10.0-py2.py3-none-any.whl (86 kB)\n",
      "\u001b[2K     \u001b[90m━━━━━━━━━━━━━━━━━━━━━━━━━━━━━━━━━━━━━━━━\u001b[0m \u001b[32m86.8/86.8 kB\u001b[0m \u001b[31m11.6 MB/s\u001b[0m eta \u001b[36m0:00:00\u001b[0m\n",
      "\u001b[?25hRequirement already satisfied: six in /opt/conda/lib/python3.11/site-packages (from isodate<0.7.0,>=0.6.0->rdflib) (1.16.0)\n",
      "Requirement already satisfied: python-dateutil>=2.8.2 in /opt/conda/lib/python3.11/site-packages (from pandas<3.0.0,>=2.0.0->morph-kgc) (2.8.2)\n",
      "Requirement already satisfied: pytz>=2020.1 in /opt/conda/lib/python3.11/site-packages (from pandas<3.0.0,>=2.0.0->morph-kgc) (2023.3)\n",
      "Requirement already satisfied: tzdata>=2022.1 in /opt/conda/lib/python3.11/site-packages (from pandas<3.0.0,>=2.0.0->morph-kgc) (2023.3)\n",
      "Requirement already satisfied: numpy>=1.21.0 in /opt/conda/lib/python3.11/site-packages (from pandas<3.0.0,>=2.0.0->morph-kgc) (1.24.4)\n",
      "Requirement already satisfied: ruamel.yaml.clib>=0.2.7 in /opt/conda/lib/python3.11/site-packages (from ruamel.yaml>=0.17.21->yatter) (0.2.7)\n",
      "Collecting sqlparse<0.5.0,>=0.4.1 (from sql-metadata<3.0.0,>=2.6.0->morph-kgc)\n",
      "  Downloading sqlparse-0.4.4-py3-none-any.whl (41 kB)\n",
      "\u001b[2K     \u001b[90m━━━━━━━━━━━━━━━━━━━━━━━━━━━━━━━━━━━━━━━━\u001b[0m \u001b[32m41.2/41.2 kB\u001b[0m \u001b[31m4.5 MB/s\u001b[0m eta \u001b[36m0:00:00\u001b[0m\n",
      "\u001b[?25hRequirement already satisfied: typing-extensions>=4.2.0 in /opt/conda/lib/python3.11/site-packages (from sqlalchemy<3.0.0,>=2.0.0->morph-kgc) (4.7.1)\n",
      "Requirement already satisfied: greenlet!=0.4.17 in /opt/conda/lib/python3.11/site-packages (from sqlalchemy<3.0.0,>=2.0.0->morph-kgc) (2.0.2)\n",
      "Downloading morph_kgc-2.6.3-py3-none-any.whl (53 kB)\n",
      "\u001b[2K   \u001b[90m━━━━━━━━━━━━━━━━━━━━━━━━━━━━━━━━━━━━━━━━\u001b[0m \u001b[32m53.2/53.2 kB\u001b[0m \u001b[31m9.7 MB/s\u001b[0m eta \u001b[36m0:00:00\u001b[0m\n",
      "\u001b[?25hDownloading elementpath-4.1.5-py3-none-any.whl (216 kB)\n",
      "\u001b[2K   \u001b[90m━━━━━━━━━━━━━━━━━━━━━━━━━━━━━━━━━━━━━━━━\u001b[0m \u001b[32m216.4/216.4 kB\u001b[0m \u001b[31m36.7 MB/s\u001b[0m eta \u001b[36m0:00:00\u001b[0m\n",
      "\u001b[?25hDownloading pyoxigraph-0.3.19-cp311-cp311-manylinux_2_17_x86_64.manylinux2014_x86_64.whl (6.7 MB)\n",
      "\u001b[2K   \u001b[90m━━━━━━━━━━━━━━━━━━━━━━━━━━━━━━━━━━━━━━━━\u001b[0m \u001b[32m6.7/6.7 MB\u001b[0m \u001b[31m9.8 MB/s\u001b[0m eta \u001b[36m0:00:00\u001b[0m:00:01\u001b[0m00:01\u001b[0mm\n",
      "\u001b[?25hDownloading sql_metadata-2.9.0-py3-none-any.whl (21 kB)\n",
      "Installing collected packages: duckdb, sqlparse, pyoxigraph, jsonpath-python, humanfriendly, falcon, elementpath, sql-metadata, coloredlogs, yatter, morph-kgc\n",
      "Successfully installed coloredlogs-15.0.1 duckdb-0.7.1 elementpath-4.1.5 falcon-3.1.1 humanfriendly-10.0 jsonpath-python-1.0.6 morph-kgc-2.6.3 pyoxigraph-0.3.19 sql-metadata-2.9.0 sqlparse-0.4.4 yatter-1.1.0\n"
     ]
    }
   ],
   "source": [
    "import sys\n",
    "!{sys.executable} -m pip install rdflib yatter morph-kgc"
   ]
  },
  {
   "cell_type": "code",
   "execution_count": 3,
   "id": "567abcbb-890e-48a9-8180-c1424336e2e4",
   "metadata": {},
   "outputs": [],
   "source": [
    "from os import getcwd\n",
    "from os.path import join, dirname\n",
    "folder = dirname(getcwd())"
   ]
  },
  {
   "cell_type": "code",
   "execution_count": 4,
   "id": "3fe54e50-8e9b-410e-82c5-3b837f2f29bf",
   "metadata": {},
   "outputs": [
    {
     "name": "stdout",
     "output_type": "stream",
     "text": [
      "1,8b23nt41l4\n",
      "1.1,9i6ta81748\n",
      "1.2,3h9eab1489\n",
      "1.3,4s23kdq383\n",
      "2,2k3209g1wc\n",
      "2.1,8ys96p08p4\n",
      "2.2,9a5d39t62b\n",
      "2.3,1dz4n8r554\n",
      "2.4,y2s2861s9p\n",
      "2.5,99vvo91542\n",
      "2.6,7d4t7002v7\n",
      "3,4b465z8p2e\n",
      "3.1,u69o196gu6\n",
      "3.2,sq0c9q6116\n",
      "3.3,2mi55kl065\n",
      "3.4,0690r7o8r2\n",
      "4,1fz48677f4\n",
      "4.1,aa985fr035\n",
      "4.2,1b043jw49b\n",
      "4.3,mg54my1580\n",
      "4.4,o9e8s72z21\n",
      "5,86xdxt8620\n",
      "5.1,13z458t54u\n",
      "5.2,00b51s9rc5\n",
      "5.3,3bgx2a6278\n",
      "5.4,860966ekgo\n"
     ]
    }
   ],
   "source": [
    "from rdflib import Graph\n",
    "\n",
    "# Load RDF data from file\n",
    "g = Graph()\n",
    "rdf_file = join(folder, \"rdf/digital-competence-framework-skos-ap-eu.rdf\")\n",
    "g.parse(rdf_file, format=\"xml\")\n",
    "\n",
    "# SPARQL query\n",
    "sparql_query = \"\"\"\n",
    "    PREFIX rdf: <http://www.w3.org/1999/02/22-rdf-syntax-ns#>\n",
    "    PREFIX rdfs: <http://www.w3.org/2000/01/rdf-schema#>\n",
    "    PREFIX skos: <http://www.w3.org/2004/02/skos/core#>\n",
    "    PREFIX dc: <http://purl.org/dc/elements/1.1/>\n",
    "    \n",
    "    SELECT DISTINCT ?label ?id\n",
    "    WHERE {\n",
    "      ?s skos:prefLabel ?label ;\n",
    "          dc:identifier ?id .\n",
    "      FILTER (!CONTAINS(?label, 'Level'))\n",
    "    }\n",
    "    ORDER BY ?label\n",
    "\"\"\"\n",
    "\n",
    "# Execute the SPARQL query\n",
    "results = g.query(sparql_query)\n",
    "\n",
    "# Print the query results\n",
    "for row in results:\n",
    "    label = str(row.label)[:3].strip()\n",
    "    if len(label) == 2:\n",
    "        label = label[:1]\n",
    "    print(f\"{label},{row.id}\")"
   ]
  },
  {
   "cell_type": "code",
   "execution_count": 43,
   "id": "10ac0463-0a60-4a22-97e2-758834e9f69f",
   "metadata": {},
   "outputs": [
    {
     "name": "stderr",
     "output_type": "stream",
     "text": [
      "2023-10-23 13:27:50,913 | INFO: Translating YARRRML mapping to [R2]RML\n",
      "2023-10-23 13:27:50,914 | INFO: RML content is created!\n",
      "2023-10-23 13:27:50,923 | INFO: Mapping has been syntactically validated.\n",
      "2023-10-23 13:27:50,924 | INFO: Translation has finished successfully.\n"
     ]
    }
   ],
   "source": [
    "import yatter\n",
    "from ruamel.yaml import YAML\n",
    "\n",
    "# YARRRML to RML\n",
    "yaml = YAML(typ='safe', pure=True)\n",
    "mappings_file = join(folder, \"mappings/corso-kg-yarrrml.yml\")\n",
    "rml_content = yatter.translate(yaml.load(open(mappings_file)))\n",
    "\n",
    "# Print generated RML triples\n",
    "# print(rml_content)\n",
    "\n",
    "# Save RML to file\n",
    "rml_file = join(folder, \"mappings/corso-kg-rml.ttl\")\n",
    "with open(rml_file, \"w\") as rml_output:\n",
    "    rml_output.write(rml_content)"
   ]
  },
  {
   "cell_type": "code",
   "execution_count": 44,
   "id": "797e9175-8961-4096-aa53-ce4f309d2762",
   "metadata": {},
   "outputs": [
    {
     "name": "stderr",
     "output_type": "stream",
     "text": [
      "2023-10-23 13:27:52,036 | DEBUG: CONFIGURATION: {'output_file': 'knowledge-graph', 'na_values': ',nan', 'safe_percent_encoding': '', 'read_parsed_mappings_path': '', 'write_parsed_mappings_path': '', 'mapping_partitioning': 'PARTIAL-AGGREGATIONS', 'logging_file': '', 'oracle_client_lib_dir': '', 'oracle_client_config_dir': '', 'udfs': '', 'output_dir': '', 'output_format': 'N-TRIPLES', 'only_printable_chars': 'no', 'infer_sql_datatypes': 'no', 'logging_level': 'INFO', 'number_of_processes': '16'}\n",
      "2023-10-23 13:27:52,037 | DEBUG: DATA SOURCE `Competences`: {'mappings': './../mappings/corso-kg-rml.ttl'}\n",
      "2023-10-23 13:27:52,812 | DEBUG: Removed self-join from mapping rule `#TM6`.\n",
      "2023-10-23 13:27:52,817 | INFO: 13 mapping rules retrieved.\n",
      "2023-10-23 13:27:52,828 | DEBUG: All predicate maps are constant-valued, invariant subset is not enforced.\n",
      "2023-10-23 13:27:52,836 | DEBUG: All graph maps are constant-valued, invariant subset is not enforced.\n",
      "2023-10-23 13:27:52,842 | INFO: Mapping partition with 13 groups generated.\n",
      "2023-10-23 13:27:52,844 | INFO: Maximum number of rules within mapping group: 1.\n",
      "2023-10-23 13:27:52,845 | INFO: Mappings processed in 0.804 seconds.\n",
      "2023-10-23 13:27:52,849 | DEBUG: Parallelizing with 16 cores.\n",
      "2023-10-23 13:27:53,118 | INFO: Number of triples generated in total: 1813.\n"
     ]
    },
    {
     "data": {
      "text/plain": [
       "<Graph identifier=N93841e2a7aeb46cab922811f4ac0d971 (<class 'rdflib.graph.Graph'>)>"
      ]
     },
     "execution_count": 44,
     "metadata": {},
     "output_type": "execute_result"
    }
   ],
   "source": [
    "import morph_kgc\n",
    "\n",
    "config = \"\"\"      \n",
    "            [Competences]\n",
    "            mappings: ./../mappings/corso-kg-rml.ttl\n",
    "         \"\"\"\n",
    "# Generate the triples and load them to an RDFLib graph\n",
    "g_rdflib = morph_kgc.materialize(config)\n",
    "\n",
    "mapping_file = join(folder, \"mappings/corso-kg-rml.ttl\")\n",
    "g_mappings = Graph()\n",
    "g_mappings.parse(mapping_file, format='ttl')\n",
    "\n",
    "for ns_prefix, namespace in g_mappings.namespaces():\n",
    "    g_rdflib.bind(ns_prefix, namespace)\n",
    "\n",
    "# Save to file\n",
    "output_file = join(folder, \"rdf/knowledge-graph.ttl\")\n",
    "g_rdflib.serialize(destination=output_file, format='ttl', encoding=\"utf-8\")"
   ]
  },
  {
   "cell_type": "code",
   "execution_count": 6,
   "id": "49771016-c967-41d7-b4e4-9950c412631d",
   "metadata": {},
   "outputs": [
    {
     "name": "stdout",
     "output_type": "stream",
     "text": [
      "Number of triples generated: 1488\n"
     ]
    }
   ],
   "source": [
    "q_res = g_rdflib.query('SELECT (COUNT(*) AS ?num_triples) WHERE { ?s ?p ?o }')\n",
    "\n",
    "# Print the query results\n",
    "for row in q_res:\n",
    "    print(f\"Number of triples generated: {row.num_triples}\")"
   ]
  },
  {
   "cell_type": "code",
   "execution_count": 9,
   "id": "4b93107a-51ee-4b35-89a6-3f587389f45a",
   "metadata": {},
   "outputs": [
    {
     "data": {
      "text/plain": [
       "<Graph identifier=N8bc4573e67124a4c978d08bff3343643 (<class 'rdflib.graph.Graph'>)>"
      ]
     },
     "execution_count": 9,
     "metadata": {},
     "output_type": "execute_result"
    }
   ],
   "source": [
    "ontology_file = join(folder, \"rdf/digital-competence-framework-skos-ap-eu.rdf\")\n",
    "g_rdflib.parse(ontology_file, format='xml')"
   ]
  },
  {
   "cell_type": "code",
   "execution_count": 10,
   "id": "ab3dd5bf-3d49-494b-91b1-cdca70744198",
   "metadata": {},
   "outputs": [
    {
     "name": "stdout",
     "output_type": "stream",
     "text": [
      "Number of triples generated: 9472\n"
     ]
    }
   ],
   "source": [
    "q_res = g_rdflib.query('SELECT (COUNT(*) AS ?num_triples) WHERE { ?s ?p ?o }')\n",
    "\n",
    "# Print the query results\n",
    "for row in q_res:\n",
    "    print(f\"Number of triples generated: {row.num_triples}\")"
   ]
  },
  {
   "cell_type": "code",
   "execution_count": 43,
   "id": "806991f4-3d37-4f7e-8ff6-b9c07b114bac",
   "metadata": {},
   "outputs": [],
   "source": [
    "sparql_query = \"\"\"\n",
    "PREFIX cefriel: <http://www.cefriel.com/corso-kg/schema/>\n",
    "PREFIX foaf: <http://xmlns.com/foaf/0.1/>\n",
    "PREFIX skos: <http://www.w3.org/2004/02/skos/core#>\n",
    "\n",
    "SELECT ?label ?level\n",
    "WHERE {\n",
    "    ?employee foaf:name \"Jane\" .\n",
    "    ?employee foaf:surname \"Brown\" .\n",
    "    ?ec a cefriel:EmployeeCompetence ;\n",
    "        cefriel:employee ?employee ;\n",
    "        cefriel:competence ?c ;\n",
    "        cefriel:level ?level .\n",
    "    ?c skos:prefLabel ?label . \n",
    "}\n",
    "\"\"\""
   ]
  },
  {
   "cell_type": "code",
   "execution_count": 44,
   "id": "f3d43844-7808-4799-a37e-b03b8b16100a",
   "metadata": {},
   "outputs": [
    {
     "name": "stdout",
     "output_type": "stream",
     "text": [
      "Competence [2.1 Interacting through digital technologies]\tLevel [4]\n",
      "Competence [4.2 Protecting personal data and privacy]\tLevel [5]\n",
      "Competence [4.4 Protecting the environment]\tLevel [3]\n",
      "Competence [1.3 Managing data, information and digital content]\tLevel [3]\n",
      "Competence [5.1 Solving technical problems]\tLevel [3]\n",
      "Competence [5.3 Creatively using digital technologies]\tLevel [1]\n",
      "Competence [4.3 Protecting health and well-being]\tLevel [4]\n",
      "Competence [3.4 Programming]\tLevel [2]\n",
      "Competence [3.3 Copyright and licences]\tLevel [5]\n",
      "Competence [2.5 Netiquette]\tLevel [3]\n"
     ]
    }
   ],
   "source": [
    "results = g_rdflib.query(sparql_query)\n",
    "# Print the query results\n",
    "for row in results:\n",
    "    print(f\"Competence [{row.label}]\\tLevel [{row.level}]\")"
   ]
  },
  {
   "cell_type": "code",
   "execution_count": null,
   "id": "249b5197-61d2-4f5d-98f7-ad37f6078a09",
   "metadata": {},
   "outputs": [],
   "source": []
  }
 ],
 "metadata": {
  "kernelspec": {
   "display_name": "Python 3 (ipykernel)",
   "language": "python",
   "name": "python3"
  },
  "language_info": {
   "codemirror_mode": {
    "name": "ipython",
    "version": 3
   },
   "file_extension": ".py",
   "mimetype": "text/x-python",
   "name": "python",
   "nbconvert_exporter": "python",
   "pygments_lexer": "ipython3",
   "version": "3.11.4"
  }
 },
 "nbformat": 4,
 "nbformat_minor": 5
}
