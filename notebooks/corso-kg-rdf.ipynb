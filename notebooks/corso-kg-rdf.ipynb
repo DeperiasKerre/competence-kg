{
 "cells": [
  {
   "cell_type": "code",
   "execution_count": 69,
   "id": "04ce129b-0e6b-4e5a-b2f2-e61263c80736",
   "metadata": {},
   "outputs": [
    {
     "name": "stdout",
     "output_type": "stream",
     "text": [
      "Requirement already satisfied: rdflib in /opt/conda/lib/python3.11/site-packages (6.3.2)\n",
      "Requirement already satisfied: yatter in /opt/conda/lib/python3.11/site-packages (1.1.0)\n",
      "Requirement already satisfied: morph-kgc in /opt/conda/lib/python3.11/site-packages (2.6.2)\n",
      "Requirement already satisfied: isodate<0.7.0,>=0.6.0 in /opt/conda/lib/python3.11/site-packages (from rdflib) (0.6.1)\n",
      "Requirement already satisfied: pyparsing<4,>=2.1.0 in /opt/conda/lib/python3.11/site-packages (from rdflib) (3.0.9)\n",
      "Requirement already satisfied: ruamel.yaml>=0.17.21 in /opt/conda/lib/python3.11/site-packages (from yatter) (0.17.32)\n",
      "Requirement already satisfied: coloredlogs>=15.0.1 in /opt/conda/lib/python3.11/site-packages (from yatter) (15.0.1)\n",
      "Requirement already satisfied: duckdb<2.0.0,>=0.7.0 in /opt/conda/lib/python3.11/site-packages (from morph-kgc) (0.8.1)\n",
      "Requirement already satisfied: elementpath<5.0.0,>=4.0.1 in /opt/conda/lib/python3.11/site-packages (from morph-kgc) (4.1.4)\n",
      "Requirement already satisfied: falcon<4.0.0,>=3.0.0 in /opt/conda/lib/python3.11/site-packages (from morph-kgc) (3.1.1)\n",
      "Requirement already satisfied: jsonpath-python<2.0.0,>=1.0.6 in /opt/conda/lib/python3.11/site-packages (from morph-kgc) (1.0.6)\n",
      "Requirement already satisfied: pandas<2.0.0,>=1.4.0 in /opt/conda/lib/python3.11/site-packages (from morph-kgc) (1.5.3)\n",
      "Requirement already satisfied: pyoxigraph<1.0.0,>=0.3.10 in /opt/conda/lib/python3.11/site-packages (from morph-kgc) (0.3.18)\n",
      "Requirement already satisfied: sql-metadata<3.0.0,>=2.6.0 in /opt/conda/lib/python3.11/site-packages (from morph-kgc) (2.8.0)\n",
      "Requirement already satisfied: sqlalchemy<2.0.0,>=1.4.0 in /opt/conda/lib/python3.11/site-packages (from morph-kgc) (1.4.49)\n",
      "Requirement already satisfied: humanfriendly>=9.1 in /opt/conda/lib/python3.11/site-packages (from coloredlogs>=15.0.1->yatter) (10.0)\n",
      "Requirement already satisfied: six in /opt/conda/lib/python3.11/site-packages (from isodate<0.7.0,>=0.6.0->rdflib) (1.16.0)\n",
      "Requirement already satisfied: python-dateutil>=2.8.1 in /opt/conda/lib/python3.11/site-packages (from pandas<2.0.0,>=1.4.0->morph-kgc) (2.8.2)\n",
      "Requirement already satisfied: pytz>=2020.1 in /opt/conda/lib/python3.11/site-packages (from pandas<2.0.0,>=1.4.0->morph-kgc) (2023.3)\n",
      "Requirement already satisfied: numpy>=1.21.0 in /opt/conda/lib/python3.11/site-packages (from pandas<2.0.0,>=1.4.0->morph-kgc) (1.24.4)\n",
      "Requirement already satisfied: ruamel.yaml.clib>=0.2.7 in /opt/conda/lib/python3.11/site-packages (from ruamel.yaml>=0.17.21->yatter) (0.2.7)\n",
      "Requirement already satisfied: sqlparse<0.5.0,>=0.4.1 in /opt/conda/lib/python3.11/site-packages (from sql-metadata<3.0.0,>=2.6.0->morph-kgc) (0.4.4)\n",
      "Requirement already satisfied: greenlet!=0.4.17 in /opt/conda/lib/python3.11/site-packages (from sqlalchemy<2.0.0,>=1.4.0->morph-kgc) (2.0.2)\n"
     ]
    }
   ],
   "source": [
    "import sys\n",
    "!{sys.executable} -m pip install rdflib yatter morph-kgc"
   ]
  },
  {
   "cell_type": "code",
   "execution_count": 2,
   "id": "567abcbb-890e-48a9-8180-c1424336e2e4",
   "metadata": {},
   "outputs": [],
   "source": [
    "from os import getcwd\n",
    "from os.path import join, dirname\n",
    "folder = dirname(getcwd())"
   ]
  },
  {
   "cell_type": "code",
   "execution_count": 46,
   "id": "3fe54e50-8e9b-410e-82c5-3b837f2f29bf",
   "metadata": {},
   "outputs": [
    {
     "name": "stdout",
     "output_type": "stream",
     "text": [
      "1,8b23nt41l4\n",
      "1.1,9i6ta81748\n",
      "1.2,3h9eab1489\n",
      "1.3,4s23kdq383\n",
      "2,2k3209g1wc\n",
      "2.1,8ys96p08p4\n",
      "2.2,9a5d39t62b\n",
      "2.3,1dz4n8r554\n",
      "2.4,y2s2861s9p\n",
      "2.5,99vvo91542\n",
      "2.6,7d4t7002v7\n",
      "3,4b465z8p2e\n",
      "3.1,u69o196gu6\n",
      "3.2,sq0c9q6116\n",
      "3.3,2mi55kl065\n",
      "3.4,0690r7o8r2\n",
      "4,1fz48677f4\n",
      "4.1,aa985fr035\n",
      "4.2,1b043jw49b\n",
      "4.3,mg54my1580\n",
      "4.4,o9e8s72z21\n",
      "5,86xdxt8620\n",
      "5.1,13z458t54u\n",
      "5.2,00b51s9rc5\n",
      "5.3,3bgx2a6278\n",
      "5.4,860966ekgo\n"
     ]
    }
   ],
   "source": [
    "from rdflib import Graph\n",
    "# Load RDF data from file\n",
    "g = Graph()\n",
    "rdf_file = join(folder, \"rdf/digital-competence-framework-skos-ap-eu.rdf\")  # Replace with the actual path to your RDF file\n",
    "g.parse(rdf_file, format=\"xml\")     # Specify the appropriate format if not XML\n",
    "\n",
    "# SPARQL query\n",
    "sparql_query = \"\"\"\n",
    "    PREFIX rdf: <http://www.w3.org/1999/02/22-rdf-syntax-ns#>\n",
    "    PREFIX rdfs: <http://www.w3.org/2000/01/rdf-schema#>\n",
    "    PREFIX skos: <http://www.w3.org/2004/02/skos/core#>\n",
    "    PREFIX dc: <http://purl.org/dc/elements/1.1/>\n",
    "    \n",
    "    SELECT DISTINCT ?label ?id\n",
    "    WHERE {\n",
    "      ?s skos:prefLabel ?label ;\n",
    "          dc:identifier ?id .\n",
    "      FILTER (!CONTAINS(?label, 'Level'))\n",
    "    }\n",
    "    ORDER BY ?label\n",
    "\"\"\"\n",
    "\n",
    "# Execute the SPARQL query\n",
    "results = g.query(sparql_query)\n",
    "\n",
    "# Print the query results\n",
    "for row in results:\n",
    "    label = str(row.label)[:3].strip()\n",
    "    if len(label) == 2:\n",
    "        label = label[:1]\n",
    "    print(f\"{label},{row.id}\")"
   ]
  },
  {
   "cell_type": "code",
   "execution_count": 47,
   "id": "10ac0463-0a60-4a22-97e2-758834e9f69f",
   "metadata": {},
   "outputs": [
    {
     "name": "stderr",
     "output_type": "stream",
     "text": [
      "2023-07-18 13:17:35,980 | INFO: Translating YARRRML mapping to [R2]RML\n",
      "2023-07-18 13:17:35,982 | INFO: RML content is created!\n",
      "2023-07-18 13:17:35,988 | INFO: Mapping has been syntactically validated.\n",
      "2023-07-18 13:17:35,989 | INFO: Translation has finished successfully.\n"
     ]
    }
   ],
   "source": [
    "import yatter\n",
    "from ruamel.yaml import YAML\n",
    "\n",
    "# YARRRML to RML\n",
    "yaml = YAML(typ='safe', pure=True)\n",
    "mappings_file = join(folder, \"mappings/corso-kg-yarrrml.yml\")\n",
    "rml_content = yatter.translate(yaml.load(open(mappings_file)))\n",
    "\n",
    "# Print generated RML triples\n",
    "# print(rml_content)\n",
    "\n",
    "# Save RML to file\n",
    "rml_file = join(folder, \"mappings/corso-kg-rml.ttl\")\n",
    "with open(rml_file, \"w\") as rml_output:\n",
    "    rml_output.write(rml_content)"
   ]
  },
  {
   "cell_type": "code",
   "execution_count": 50,
   "id": "797e9175-8961-4096-aa53-ce4f309d2762",
   "metadata": {},
   "outputs": [
    {
     "name": "stderr",
     "output_type": "stream",
     "text": [
      "2023-07-18 13:19:29,823 | DEBUG: CONFIGURATION: {'output_file': './../rdf/knowledge-graph.ttl', 'output_format': 'N-TRIPLES', 'na_values': ',nan', 'safe_percent_encoding': '', 'read_parsed_mappings_path': '', 'write_parsed_mappings_path': '', 'mapping_partitioning': 'PARTIAL-AGGREGATIONS', 'logging_file': '', 'oracle_client_lib_dir': '', 'oracle_client_config_dir': '', 'udfs': '', 'output_dir': '', 'only_printable_chars': 'no', 'infer_sql_datatypes': 'no', 'logging_level': 'INFO', 'number_of_processes': '16'}\n",
      "2023-07-18 13:19:29,824 | DEBUG: DATA SOURCE `Competences`: {'mappings': './../mappings/corso-kg-rml.ttl'}\n",
      "2023-07-18 13:19:30,550 | DEBUG: Removed self-join from mapping rule `#TM5`.\n",
      "2023-07-18 13:19:30,556 | INFO: 11 mapping rules retrieved.\n",
      "2023-07-18 13:19:30,574 | INFO: Mapping partition with 1 groups generated.\n",
      "2023-07-18 13:19:30,576 | INFO: Maximum number of rules within mapping group: 11.\n",
      "2023-07-18 13:19:30,577 | INFO: Mappings processed in 0.747 seconds.\n",
      "2023-07-18 13:19:30,580 | DEBUG: Parallelizing with 16 cores.\n",
      "2023-07-18 13:19:30,918 | INFO: Number of triples generated in total: 1210.\n"
     ]
    },
    {
     "data": {
      "text/plain": [
       "<Graph identifier=N320f838c4a2343fd85936af451c7d0da (<class 'rdflib.graph.Graph'>)>"
      ]
     },
     "execution_count": 50,
     "metadata": {},
     "output_type": "execute_result"
    }
   ],
   "source": [
    "import morph_kgc\n",
    "\n",
    "config = \"\"\"\n",
    "            [CONFIGURATION]\n",
    "            output_file: ./../rdf/knowledge-graph.ttl\n",
    "            output_format: N-TRIPLES\n",
    "            \n",
    "            [Competences]\n",
    "            mappings: ./../mappings/corso-kg-rml.ttl\n",
    "         \"\"\"\n",
    "# Generate the triples and load them to an RDFLib graph\n",
    "g_rdflib = morph_kgc.materialize(config)\n",
    "# Save to file\n",
    "output_file = join(folder, \"rdf/knowledge-graph.ttl\")\n",
    "g_rdflib.serialize(destination=output_file, format='turtle')"
   ]
  },
  {
   "cell_type": "code",
   "execution_count": 51,
   "id": "49771016-c967-41d7-b4e4-9950c412631d",
   "metadata": {},
   "outputs": [
    {
     "name": "stdout",
     "output_type": "stream",
     "text": [
      "Number of triples generated: 1210\n"
     ]
    }
   ],
   "source": [
    "q_res = g_rdflib.query('SELECT (COUNT(*) AS ?num_triples) WHERE { ?s ?p ?o }')\n",
    "\n",
    "# Print the query results\n",
    "for row in q_res:\n",
    "    print(f\"Number of triples generated: {row.num_triples}\")"
   ]
  },
  {
   "cell_type": "code",
   "execution_count": null,
   "id": "4b93107a-51ee-4b35-89a6-3f587389f45a",
   "metadata": {},
   "outputs": [],
   "source": []
  }
 ],
 "metadata": {
  "kernelspec": {
   "display_name": "Python 3 (ipykernel)",
   "language": "python",
   "name": "python3"
  },
  "language_info": {
   "codemirror_mode": {
    "name": "ipython",
    "version": 3
   },
   "file_extension": ".py",
   "mimetype": "text/x-python",
   "name": "python",
   "nbconvert_exporter": "python",
   "pygments_lexer": "ipython3",
   "version": "3.11.4"
  }
 },
 "nbformat": 4,
 "nbformat_minor": 5
}
